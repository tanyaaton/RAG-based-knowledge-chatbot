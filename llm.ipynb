{
 "cells": [
  {
   "cell_type": "code",
   "execution_count": 5,
   "metadata": {},
   "outputs": [],
   "source": [
    "from openai import OpenAI\n",
    "client = OpenAI()"
   ]
  },
  {
   "cell_type": "code",
   "execution_count": 11,
   "metadata": {},
   "outputs": [],
   "source": [
    "def prompt_EN(context, question):\n",
    "    messages = {\n",
    "        \"messages\": [\n",
    "            {\n",
    "            \"content\": \"You are a helpful, respectful assistant. Always answer as helpfully as possible, while being safe. Your answers should not include any harmful, unethical, racist, sexist, toxic, dangerous, or illegal content. Please ensure that your responses are socially unbiased and positive in nature. If a question does not make any sense, or is not factually coherent, explain why instead of answering something not correct. If you don't know the answer to a question, please don't share false information.You will receive Document on user queries DOCUMENT, and QUESTION from user below. Answer the question.\",\n",
    "            \"role\": \"system\"\n",
    "            },\n",
    "            {\n",
    "            \"content\": f\"\"\"DOCUMENT: {context}\n",
    "QUESTION: {question}\"\"\",\n",
    "            \"role\": \"user\"\n",
    "            },\n",
    "            {\n",
    "            \"content\": \"Answer: {\",\n",
    "            \"role\": \"assistant\"\n",
    "            },\n",
    "        ]\n",
    "    }\n",
    "    return messages[\"messages\"]"
   ]
  },
  {
   "cell_type": "code",
   "execution_count": 12,
   "metadata": {},
   "outputs": [],
   "source": [
    "context = \"\"\"### Data Science\n",
    "#### Data Science Job Family\n",
    "Data Science Roles:\n",
    "- Data Scientist\n",
    "- Senior Data Scientist\n",
    "- Staff Data Scientist\n",
    "- Principal Data Scientist\n",
    "Intermediate and Senior Data Scientist Onboarding Timeline:\n",
    "By Day 30 | By Day 60 | By Day 90 | By Day 120\n",
    "--- | --- | --- | ---\n",
    "Complete People and Data Onboarding | Meet stakeholders across the\n",
    "organization | Re-train or enhance an existing data science model | Make\n",
    "a contribution to improve the Data Science handbook, packages, or\n",
    "processes\n",
    "Start attending Data Science Team meetings | Refine/improve one data\n",
    "science dashboard | Work on OKR assignments | Take ownership of at least\n",
    "one quarterly OKR\n",
    "Understand the current data science systems and processes | | |\n",
    "### Analytics Engineering\n",
    "#### Analytics Engineering Job Family\n",
    "Analytics Engineer Roles:\n",
    "- Analytics Engineer\n",
    "- Senior Analytics Engineer\n",
    "- Staff Analytics Engineer\n",
    "- Principal Analytics Engineer\n",
    "Intermediate and Senior Analytics Engineer Onboarding Timeline:\n",
    "By Day 30 | By Day 60 | By Day 90 | By Day 120\n",
    "--- | --- | --- | ---\n",
    "Complete People and Data Onboarding | Extend an existing dbt Trusted\n",
    "Data Models | Run a project end-to-end as DRI with support from a Data\n",
    "Fusion Team | Create ERDs/Data Artifacts\n",
    "Start attending Data Fusion Team and Business Team synchronous meetings\n",
    "| Perform triage activities | Complete First Issue: S to M T-Shirt Size\n",
    "|\n",
    "### Data Management\n",
    "#### Data Management Job Family\n",
    "Data Management Roles:\n",
    "- Manager, Data\n",
    "- Senior Manager, Data\n",
    "file:///private/var/folders/z8/lzg1ky6j6n98zstxj6ybggtr0000gn/T/tmp77f9s2ec.html\n",
    "4/6\n",
    "22/10/2024, 15:41 tmp77f9s2ec.html\n",
    "- Director, Data\n",
    "- Senior Director, Data\n",
    "Data Manager Onboarding Timeline:\n",
    "By Day 30 | By Day 60 | By Day 90 | By Day 120\n",
    "--- | --- | --- | ---\n",
    "Complete People, Data, and Manager Onboarding | Meet everyone on the\n",
    "team and business data champions | Complete a Team Assessment | Draft a\n",
    "people development Roadmap\n",
    "Understand the current setup of the data platform | Work on OKR\n",
    "assignments and map them to the data platform | Lead discussions with\n",
    "Users/Stakeholders on initiatives and OKRs | Draft a program development\n",
    "Roadmap\n",
    "Add a new page to the handbook | Make regular contributions to the\n",
    "handbook spanning your area of management | Become DRI for major\n",
    "portions of the Data Handbook | System/Application Change Control\n",
    "Management of one or more modules\n",
    "## Tool Technology Tandem\n",
    "Tool Technology Tandems (TTT) are supporting to get the maximum value\n",
    "out of business opportunities we have in the Data Program. TTT are\n",
    "experts in a specific (software) tool or technology to support business\n",
    "opportunities or challenges we have by leveraging the tool or technology\n",
    "to the maximum.\n",
    "Tool / Technology | Tandem\"\"\"\n",
    "\n",
    "question = 'what is TTT'"
   ]
  },
  {
   "cell_type": "code",
   "execution_count": 13,
   "metadata": {},
   "outputs": [],
   "source": [
    "mm = prompt_EN(context, question)"
   ]
  },
  {
   "cell_type": "code",
   "execution_count": 14,
   "metadata": {},
   "outputs": [
    {
     "name": "stdout",
     "output_type": "stream",
     "text": [
      "[{'content': \"You are a helpful, respectful assistant. Always answer as helpfully as possible, while being safe. Your answers should not include any harmful, unethical, racist, sexist, toxic, dangerous, or illegal content. Please ensure that your responses are socially unbiased and positive in nature. If a question does not make any sense, or is not factually coherent, explain why instead of answering something not correct. If you don't know the answer to a question, please don't share false information.You will receive Document on user queries DOCUMENT, and QUESTION from user below. Answer the question.\", 'role': 'system'}, {'content': 'DOCUMENT: ### Data Science\\n#### Data Science Job Family\\nData Science Roles:\\n- Data Scientist\\n- Senior Data Scientist\\n- Staff Data Scientist\\n- Principal Data Scientist\\nIntermediate and Senior Data Scientist Onboarding Timeline:\\nBy Day 30 | By Day 60 | By Day 90 | By Day 120\\n--- | --- | --- | ---\\nComplete People and Data Onboarding | Meet stakeholders across the\\norganization | Re-train or enhance an existing data science model | Make\\na contribution to improve the Data Science handbook, packages, or\\nprocesses\\nStart attending Data Science Team meetings | Refine/improve one data\\nscience dashboard | Work on OKR assignments | Take ownership of at least\\none quarterly OKR\\nUnderstand the current data science systems and processes | | |\\n### Analytics Engineering\\n#### Analytics Engineering Job Family\\nAnalytics Engineer Roles:\\n- Analytics Engineer\\n- Senior Analytics Engineer\\n- Staff Analytics Engineer\\n- Principal Analytics Engineer\\nIntermediate and Senior Analytics Engineer Onboarding Timeline:\\nBy Day 30 | By Day 60 | By Day 90 | By Day 120\\n--- | --- | --- | ---\\nComplete People and Data Onboarding | Extend an existing dbt Trusted\\nData Models | Run a project end-to-end as DRI with support from a Data\\nFusion Team | Create ERDs/Data Artifacts\\nStart attending Data Fusion Team and Business Team synchronous meetings\\n| Perform triage activities | Complete First Issue: S to M T-Shirt Size\\n|\\n### Data Management\\n#### Data Management Job Family\\nData Management Roles:\\n- Manager, Data\\n- Senior Manager, Data\\nfile:///private/var/folders/z8/lzg1ky6j6n98zstxj6ybggtr0000gn/T/tmp77f9s2ec.html\\n4/6\\n22/10/2024, 15:41 tmp77f9s2ec.html\\n- Director, Data\\n- Senior Director, Data\\nData Manager Onboarding Timeline:\\nBy Day 30 | By Day 60 | By Day 90 | By Day 120\\n--- | --- | --- | ---\\nComplete People, Data, and Manager Onboarding | Meet everyone on the\\nteam and business data champions | Complete a Team Assessment | Draft a\\npeople development Roadmap\\nUnderstand the current setup of the data platform | Work on OKR\\nassignments and map them to the data platform | Lead discussions with\\nUsers/Stakeholders on initiatives and OKRs | Draft a program development\\nRoadmap\\nAdd a new page to the handbook | Make regular contributions to the\\nhandbook spanning your area of management | Become DRI for major\\nportions of the Data Handbook | System/Application Change Control\\nManagement of one or more modules\\n## Tool Technology Tandem\\nTool Technology Tandems (TTT) are supporting to get the maximum value\\nout of business opportunities we have in the Data Program. TTT are\\nexperts in a specific (software) tool or technology to support business\\nopportunities or challenges we have by leveraging the tool or technology\\nto the maximum.\\nTool / Technology | Tandem\\nQUESTION: what is TTT', 'role': 'user'}, {'content': 'Answer: {', 'role': 'assistant'}]\n"
     ]
    }
   ],
   "source": [
    "print(mm)"
   ]
  },
  {
   "cell_type": "code",
   "execution_count": null,
   "metadata": {},
   "outputs": [
    {
     "ename": "NameError",
     "evalue": "name 'mm' is not defined",
     "output_type": "error",
     "traceback": [
      "\u001b[0;31m---------------------------------------------------------------------------\u001b[0m",
      "\u001b[0;31mNameError\u001b[0m                                 Traceback (most recent call last)",
      "Cell \u001b[0;32mIn[6], line 6\u001b[0m\n\u001b[1;32m      1\u001b[0m \u001b[38;5;28;01mfrom\u001b[39;00m \u001b[38;5;21;01mopenai\u001b[39;00m \u001b[38;5;28;01mimport\u001b[39;00m OpenAI\n\u001b[1;32m      2\u001b[0m client \u001b[38;5;241m=\u001b[39m OpenAI()\n\u001b[1;32m      4\u001b[0m completion \u001b[38;5;241m=\u001b[39m client\u001b[38;5;241m.\u001b[39mchat\u001b[38;5;241m.\u001b[39mcompletions\u001b[38;5;241m.\u001b[39mcreate(\n\u001b[1;32m      5\u001b[0m     model\u001b[38;5;241m=\u001b[39m\u001b[38;5;124m\"\u001b[39m\u001b[38;5;124mgpt-4o\u001b[39m\u001b[38;5;124m\"\u001b[39m,\n\u001b[0;32m----> 6\u001b[0m     messages\u001b[38;5;241m=\u001b[39m\u001b[43mmm\u001b[49m\n\u001b[1;32m      7\u001b[0m )\n\u001b[1;32m      9\u001b[0m \u001b[38;5;28mprint\u001b[39m(completion\u001b[38;5;241m.\u001b[39mchoices[\u001b[38;5;241m0\u001b[39m]\u001b[38;5;241m.\u001b[39mmessage)\n",
      "\u001b[0;31mNameError\u001b[0m: name 'mm' is not defined"
     ]
    }
   ],
   "source": [
    "completion = client.chat.completions.create(\n",
    "    model=\"gpt-4o\",\n",
    "    messages=mm\n",
    ")\n",
    "\n",
    "print(completion.choices[0].message)"
   ]
  },
  {
   "cell_type": "code",
   "execution_count": 20,
   "metadata": {},
   "outputs": [
    {
     "data": {
      "text/plain": [
       "'TTT stands for Tool Technology Tandem. It refers to a group of experts who specialize in a specific software tool or technology. Their role is to support business opportunities or address challenges by leveraging these tools or technologies to their fullest potential. The goal is to maximize the value derived from the data program within the organization.'"
      ]
     },
     "execution_count": 20,
     "metadata": {},
     "output_type": "execute_result"
    }
   ],
   "source": [
    "completion.choices[0].message.content"
   ]
  },
  {
   "cell_type": "code",
   "execution_count": null,
   "metadata": {},
   "outputs": [],
   "source": [
    "prompt = f\"\"\"<|begin_of_text|><|start_header_id|>**system<|end_header_id|>`\n",
    "You are a helpful, respectful assistant. Always answer as helpfully as possible, while being safe. Your answers should not include any harmful, unethical, racist, sexist, toxic, dangerous, or illegal content. Please ensure that your responses are socially unbiased and positive in nature. If a question does not make any sense, or is not factually coherent, explain why instead of answering something not correct. If you don't know the answer to a question, please don't share false information.\n",
    "\n",
    "You will receive Document on user queries DOCUMENT, and QUESTION from user below. Answer the question.\n",
    "\n",
    "DOCUMENT:\n",
    "### Data Science\n",
    "#### Data Science Job Family\n",
    "Data Science Roles:\n",
    "- Data Scientist\n",
    "- Senior Data Scientist\n",
    "- Staff Data Scientist\n",
    "- Principal Data Scientist\n",
    "Intermediate and Senior Data Scientist Onboarding Timeline:\n",
    "By Day 30 | By Day 60 | By Day 90 | By Day 120\n",
    "--- | --- | --- | ---\n",
    "Complete People and Data Onboarding | Meet stakeholders across the\n",
    "organization | Re-train or enhance an existing data science model | Make\n",
    "a contribution to improve the Data Science handbook, packages, or\n",
    "processes\n",
    "Start attending Data Science Team meetings | Refine/improve one data\n",
    "science dashboard | Work on OKR assignments | Take ownership of at least\n",
    "one quarterly OKR\n",
    "Understand the current data science systems and processes | | |\n",
    "### Analytics Engineering\n",
    "#### Analytics Engineering Job Family\n",
    "Analytics Engineer Roles:\n",
    "- Analytics Engineer\n",
    "- Senior Analytics Engineer\n",
    "- Staff Analytics Engineer\n",
    "- Principal Analytics Engineer\n",
    "Intermediate and Senior Analytics Engineer Onboarding Timeline:\n",
    "By Day 30 | By Day 60 | By Day 90 | By Day 120\n",
    "--- | --- | --- | ---\n",
    "Complete People and Data Onboarding | Extend an existing dbt Trusted\n",
    "Data Models | Run a project end-to-end as DRI with support from a Data\n",
    "Fusion Team | Create ERDs/Data Artifacts\n",
    "Start attending Data Fusion Team and Business Team synchronous meetings\n",
    "| Perform triage activities | Complete First Issue: S to M T-Shirt Size\n",
    "|\n",
    "### Data Management\n",
    "#### Data Management Job Family\n",
    "Data Management Roles:\n",
    "- Manager, Data\n",
    "- Senior Manager, Data\n",
    "file:///private/var/folders/z8/lzg1ky6j6n98zstxj6ybggtr0000gn/T/tmp77f9s2ec.html\n",
    "4/6\n",
    "22/10/2024, 15:41 tmp77f9s2ec.html\n",
    "- Director, Data\n",
    "- Senior Director, Data\n",
    "Data Manager Onboarding Timeline:\n",
    "By Day 30 | By Day 60 | By Day 90 | By Day 120\n",
    "--- | --- | --- | ---\n",
    "Complete People, Data, and Manager Onboarding | Meet everyone on the\n",
    "team and business data champions | Complete a Team Assessment | Draft a\n",
    "people development Roadmap\n",
    "Understand the current setup of the data platform | Work on OKR\n",
    "assignments and map them to the data platform | Lead discussions with\n",
    "Users/Stakeholders on initiatives and OKRs | Draft a program development\n",
    "Roadmap\n",
    "Add a new page to the handbook | Make regular contributions to the\n",
    "handbook spanning your area of management | Become DRI for major\n",
    "portions of the Data Handbook | System/Application Change Control\n",
    "Management of one or more modules\n",
    "## Tool Technology Tandem\n",
    "Tool Technology Tandems (TTT) are supporting to get the maximum value\n",
    "out of business opportunities we have in the Data Program. TTT are\n",
    "experts in a specific (software) tool or technology to support business\n",
    "opportunities or challenges we have by leveraging the tool or technology\n",
    "to the maximum.\n",
    "Tool / Technology | Tandem\n",
    "QUESTION: What is TTT\n",
    "\n",
    "Answer the QUESTION use details about HR Policy from HR POLICY DETAILS, explain your reasonings if the question is not related to REFERENCE please Answer\n",
    "“I don’t know the answer, it is not part of the provided HR Policy”\n",
    "<|eot_id|><|start_header_id|>user<|end_header_id|>\n",
    "\n",
    "hello<|eot_id|><|start_header_id|>assistant<|end_header_id|>\n",
    "\n",
    "hello, I'm your HR Policy Assistance, please type your question<|eot_id|><|start_header_id|>user<|end_header_id|>\n",
    "\n",
    "What is TTT<|eot_id|><|start_header_id|>assistant<|end_header_id|>\n",
    "\"\"\""
   ]
  },
  {
   "cell_type": "markdown",
   "metadata": {},
   "source": [
    "# try extracting table"
   ]
  },
  {
   "cell_type": "code",
   "execution_count": 3,
   "metadata": {},
   "outputs": [],
   "source": [
    "table_html = \"\"\"{'Header 1': 'Data Management', 'Header 2': 'Data Manager Onboarding Timeline'}\n",
    "<table>\n",
    "<tr>\n",
    "<th>By Day 30</th>\n",
    "<th>By Day 60</th>\n",
    "<th>By Day 90</th>\n",
    "<th>By Day 120</th>\n",
    "</tr>\n",
    "<tr>\n",
    "<td>Complete</td>\n",
    "<td>Meet everyone on</td>\n",
    "<td>Complete a Team</td>\n",
    "<td>Draft a people</td>\n",
    "</tr>\n",
    "<tr>\n",
    "<td rowspan=\"2\">People, Data, and Manager</td>\n",
    "<td>the team and</td>\n",
    "<td rowspan=\"2\">Assessment</td>\n",
    "<td rowspan=\"2\">development Roadmap</td>\n",
    "</tr>\n",
    "<tr>\n",
    "<td>business data</td>\n",
    "</tr>\n",
    "<tr>\n",
    "<td>Onboarding</td>\n",
    "<td>champions</td>\n",
    "<td></td>\n",
    "<td></td>\n",
    "</tr>\n",
    "<tr>\n",
    "<td>it/data-</td>\n",
    "<td>Work on OKR</td>\n",
    "<td>Lead discussions with</td>\n",
    "<td>Draft a program</td>\n",
    "</tr>\n",
    "<tr>\n",
    "<td>team/stand the</td>\n",
    "<td>assignments and</td>\n",
    "<td>Users/Stakeholders on</td>\n",
    "<td>development Roadmap</td>\n",
    "</tr>\n",
    "<tr>\n",
    "<td rowspan=\"2\">current setup of the data platform</td>\n",
    "<td>map them to the</td>\n",
    "<td rowspan=\"2\">initiatives and OKRs</td>\n",
    "<td rowspan=\"2\">(Process Improvements /Future State)</td>\n",
    "</tr>\n",
    "<tr>\n",
    "<td>data platform</td>\n",
    "</tr>\n",
    "</table>  \n",
    "<!-- PageFooter=\"https://handbook.gitlab.com/handbook/enterprise-data/organization/\" -->\n",
    "<!-- PageNumber=\"10/12\" -->\n",
    "<!-- PageBreak -->  \n",
    "<!-- PageHeader=\"22/10/2024, 15:00\" -->\n",
    "<!-- PageHeader=\"Data Team Organization | The GitLab Handbook\" -->  \n",
    "<table>\n",
    "<tr>\n",
    "<th>By Day 30</th>\n",
    "<th>By Day 60</th>\n",
    "<th>By Day 90</th>\n",
    "<th>By Day 120</th>\n",
    "</tr>\n",
    "<tr>\n",
    "<td>Add a new</td>\n",
    "<td>Make regular</td>\n",
    "<td>Become DRI for major</td>\n",
    "<td>System/Application</td>\n",
    "</tr>\n",
    "<tr>\n",
    "<td>page to the</td>\n",
    "<td>contributions to</td>\n",
    "<td>portions of the Data</td>\n",
    "<td>Change Control</td>\n",
    "</tr>\n",
    "<tr>\n",
    "<td rowspan=\"2\">handbook</td>\n",
    "<td rowspan=\"2\">the handbook spanning your</td>\n",
    "<td rowspan=\"2\">Handbook</td>\n",
    "<td>Management of one or</td>\n",
    "</tr>\n",
    "<tr>\n",
    "<td>more modules</td>\n",
    "</tr>\n",
    "<tr>\n",
    "<td></td>\n",
    "<td>area of</td>\n",
    "<td></td>\n",
    "<td></td>\n",
    "</tr>\n",
    "<tr>\n",
    "<td></td>\n",
    "<td>management</td>\n",
    "<td></td>\n",
    "<td></td>\n",
    "</tr>\n",
    "</table>\n",
    "\"\"\""
   ]
  },
  {
   "cell_type": "code",
   "execution_count": null,
   "metadata": {},
   "outputs": [],
   "source": [
    "table_text = \"\"\"\n",
    "{'Header 1': 'Tool Technology Tandem'}\n",
    "--table--\n",
    "Tool Technology Tandems (TTT) are supporting to get the maximum value out of business\n",
    "opportunities we have in the Data Program. TTT are experts in a specific (software) tool or\n",
    "technology to support business opportunities or challenges we have by leveraging the tool\n",
    "or technology to the maximum. Although this is not the goal, we want to get the maximum\n",
    "value out of our technology stack. At the moment we see that we are not leveraging our\n",
    "technology stack to the maximum, where there are useful features or opportunities in our\n",
    "technology that could support in fulfilling business opportunities.  \n",
    "The reason is that from the technology side we don't know the business and from the\n",
    "business side we don't know the technology. The TTT will bridge this gap by it/data-\n",
    "team/standing the needs and bring this together in a technological way. We expect from\n",
    "TTT to do consulting, guiding and educating.  \n",
    "Note: TTT will not search for business opportunities to use any tool feature. TTT has to\n",
    "it/data-team/stand business opportunities and translate this into what software could bring\n",
    "to the table.  \n",
    "A single TTT consists of minimum 2 and maximum 3 GitLab Team Members with different\n",
    "roles. There are no requirements in which team a Team Member is part of(so this could be\n",
    "outside of the central Data Team as well) as long as the TTT meets the expectations\n",
    "described below.  \n",
    "<table>\n",
    "<tr>\n",
    "<th>Tool / Technology</th>\n",
    "<th>Tandem</th>\n",
    "</tr>\n",
    "<tr>\n",
    "<td>Snowflake</td>\n",
    "<td>t.b.d.</td>\n",
    "</tr>\n",
    "<tr>\n",
    "<td>Monte Carlo</td>\n",
    "<td>t.b.d.</td>\n",
    "</tr>\n",
    "<tr>\n",
    "<td>dbt</td>\n",
    "<td>t.b.d.</td>\n",
    "</tr>\n",
    "<tr>\n",
    "<td>Tableau</td>\n",
    "<td>t.b.d.</td>\n",
    "</tr>\n",
    "</table>  \n",
    "<!-- PageFooter=\"https://handbook.gitlab.com/handbook/enterprise-data/organization/\" -->\n",
    "<!-- PageNumber=\"11/12\" -->\n",
    "<!-- PageBreak -->  \n",
    "22/10/2024, 15:00  \n",
    "<!-- PageHeader=\"Data Team Organization | The GitLab Handbook\" -->\n",
    "\"\"\""
   ]
  },
  {
   "cell_type": "code",
   "execution_count": 11,
   "metadata": {},
   "outputs": [],
   "source": [
    "question_html = 'what are the Data Manager Onboarding Timeline by day 120'"
   ]
  },
  {
   "cell_type": "code",
   "execution_count": 12,
   "metadata": {},
   "outputs": [],
   "source": [
    "prompt_table = [\n",
    "            {\n",
    "            \"content\": \"You are a helpful, respectful assistant. You will be given a DOCUMENT and QUESTION. The data in the DOCUMENT provides you knowledge to answer the USER QUESTION'S. some of the data will include a table in HTML format. please answer the question base on only the given document. if the document does not provide the data, reply with 'information not found'\",\n",
    "            \"role\": \"system\"\n",
    "            },\n",
    "            {\n",
    "            \"content\": f\"\"\"DOCUMENT: {table_html}\n",
    "QUESTION: {question_html}\"\"\",\n",
    "            \"role\": \"user\"\n",
    "            },\n",
    "            {\n",
    "            \"content\": \"Answer: {\",\n",
    "            \"role\": \"assistant\"\n",
    "            },\n",
    "        ]"
   ]
  },
  {
   "cell_type": "code",
   "execution_count": 13,
   "metadata": {},
   "outputs": [
    {
     "name": "stdout",
     "output_type": "stream",
     "text": [
      "ChatCompletionMessage(content='By day 120 of the Data Manager Onboarding Timeline, the goals are to:\\n\\n1. Draft a people development Roadmap.\\n2. Draft a program development Roadmap focusing on Process Improvements/Future State.\\n3. Manage System/Application Change Control for one or more modules.', refusal=None, role='assistant', audio=None, function_call=None, tool_calls=None)\n"
     ]
    }
   ],
   "source": [
    "completion = client.chat.completions.create(\n",
    "    model=\"gpt-4o\",\n",
    "    messages=prompt_table\n",
    ")\n",
    "\n",
    "print(completion.choices[0].message)"
   ]
  },
  {
   "cell_type": "code",
   "execution_count": 14,
   "metadata": {},
   "outputs": [
    {
     "data": {
      "text/plain": [
       "'By day 120 of the Data Manager Onboarding Timeline, the goals are to:\\n\\n1. Draft a people development Roadmap.\\n2. Draft a program development Roadmap focusing on Process Improvements/Future State.\\n3. Manage System/Application Change Control for one or more modules.'"
      ]
     },
     "execution_count": 14,
     "metadata": {},
     "output_type": "execute_result"
    }
   ],
   "source": [
    "completion.choices[0].message.content"
   ]
  },
  {
   "cell_type": "markdown",
   "metadata": {},
   "source": [
    "'By day 120 of the Data Manager Onboarding Timeline, the goals are to:\\n\\n1. Draft a people development Roadmap.\\n2. Draft a program development Roadmap focusing on Process Improvements/Future State.\\n3. Manage System/Application Change Control for one or more modules.'"
   ]
  },
  {
   "cell_type": "code",
   "execution_count": 11,
   "metadata": {},
   "outputs": [],
   "source": [
    "figure_chunk = \"\"\"{'Header 1': 'Data Analyst'}\n",
    "{Figure}\n",
    "417\n",
    "· Data Analyst Job Family  \n",
    "<!-- PageFooter=\"https://handbook.gitlab.com/handbook/enterprise-data/organization/\" -->\n",
    "<!-- PageNumber=\"5/12\" -->\n",
    "<!-- PageBreak -->  \n",
    "<!-- PageHeader=\"22/10/2024, 15:00\" -->\n",
    "<!-- PageHeader=\"Data Team Organization | The GitLab Handbook\" -->  \n",
    "<figure>  \n",
    "Data Analyst Roles  \n",
    "Data Analyst Intern  \n",
    "Junior Data Analyst  \n",
    "Data Analyst  \n",
    "Senior Data Analyst  \n",
    "Staff Data Analyst  \n",
    "</figure>\"\"\""
   ]
  },
  {
   "cell_type": "code",
   "execution_count": 12,
   "metadata": {},
   "outputs": [],
   "source": [
    "question_figure = 'What are the data analyst roles?'"
   ]
  },
  {
   "cell_type": "code",
   "execution_count": 13,
   "metadata": {},
   "outputs": [],
   "source": [
    "prompt_figure = [\n",
    "            {\n",
    "            \"content\": \"You are a helpful, respectful assistant. You will be given a DOCUMENT and QUESTION. The data in the DOCUMENT provides you knowledge to answer the USER QUESTION'S. some of the data will include table in HTML format, and some figure. please answer the question base on only the given document. if the document does not provide the data, reply with 'information not found'\",\n",
    "            \"role\": \"system\"\n",
    "            },\n",
    "            {\n",
    "            \"content\": f\"\"\"DOCUMENT: {figure_chunk}\n",
    "QUESTION: {question_figure}\"\"\",\n",
    "            \"role\": \"user\"\n",
    "            },\n",
    "            {\n",
    "            \"content\": \"Answer: {\",\n",
    "            \"role\": \"assistant\"\n",
    "            },\n",
    "        ]"
   ]
  },
  {
   "cell_type": "code",
   "execution_count": 14,
   "metadata": {},
   "outputs": [
    {
     "name": "stdout",
     "output_type": "stream",
     "text": [
      "ChatCompletionMessage(content='The data analyst roles are:\\n\\n- Data Analyst Intern\\n- Junior Data Analyst\\n- Data Analyst\\n- Senior Data Analyst\\n- Staff Data Analyst', refusal=None, role='assistant', audio=None, function_call=None, tool_calls=None)\n"
     ]
    }
   ],
   "source": [
    "completion_firgure = client.chat.completions.create(\n",
    "    model=\"gpt-4o\",\n",
    "    messages=prompt_figure\n",
    ")\n",
    "\n",
    "print(completion_firgure.choices[0].message)"
   ]
  },
  {
   "cell_type": "code",
   "execution_count": 30,
   "metadata": {},
   "outputs": [
    {
     "data": {
      "text/plain": [
       "'The data analyst roles are:\\n\\n- Data Analyst Intern\\n- Junior Data Analyst\\n- Data Analyst\\n- Senior Data Analyst\\n- Staff Data Analyst'"
      ]
     },
     "execution_count": 30,
     "metadata": {},
     "output_type": "execute_result"
    }
   ],
   "source": [
    "completion_firgure.choices[0].message.content"
   ]
  },
  {
   "cell_type": "markdown",
   "metadata": {},
   "source": [
    "'The data analyst roles are:\\n\\n- Data Analyst Intern\\n- Junior Data Analyst\\n- Data Analyst\\n- Senior Data Analyst\\n- Staff Data Analyst'"
   ]
  },
  {
   "cell_type": "markdown",
   "metadata": {},
   "source": [
    "# Test prompt"
   ]
  },
  {
   "cell_type": "code",
   "execution_count": 28,
   "metadata": {},
   "outputs": [],
   "source": [
    "instruction = \"\"\"You are a helpful, respectful assistant. Always answer as helpfully as possible, while being safe. Your answers should not include any harmful, unethical, racist, sexist, toxic, dangerous, or illegal content. Please ensure that your responses are socially unbiased and positive in nature. \n",
    "If a question does not make any sense, or is not factually coherent, explain why instead of answering something not correct. If you don't know the answer to a question, please don't share false information. \n",
    "You will receive Document on user queries DOCUMENT, and QUESTION from user below. \n",
    "The DOCUMENT starts with it's Header information in the form of python dictionary (eg. {'Header 1': ''}), some might also include 'Header 2' and 'Header 3' (eg. {'Header 1': '', 'Header 2': '', 'Header 3': ''}). This header will inform you the general idea of the content of the DOCUMENT.\n",
    "If you find '{Figure}' and/or '{Table}' following the headeer information, The DOCUMENT contains Table and/or Figure in HTML format.\n",
    "Ignore the PageFooter, PageNumber, PageBreak, and PageHeader as a content, unless the user specifically asks for it.\n",
    "Answer the user's QUESTION using information form the DOCUMENT.\"\"\""
   ]
  },
  {
   "cell_type": "code",
   "execution_count": 29,
   "metadata": {},
   "outputs": [],
   "source": [
    "instruction=instruction.replace('\\n', '')"
   ]
  },
  {
   "cell_type": "code",
   "execution_count": 30,
   "metadata": {},
   "outputs": [],
   "source": [
    "def generate_llm_prompt(question, context):\n",
    "    messages = [\n",
    "            {\n",
    "            \"content\": str(instruction),\n",
    "            \"role\": \"system\"\n",
    "            },\n",
    "            {\n",
    "            \"content\": f\"\"\"DOCUMENT: {context}\n",
    "QUESTION: {question}\"\"\",\n",
    "            \"role\": \"user\"\n",
    "            },\n",
    "            {\n",
    "            \"content\": \"Answer: {\",\n",
    "            \"role\": \"assistant\"\n",
    "            },\n",
    "        ]\n",
    "\n",
    "    return messages"
   ]
  },
  {
   "cell_type": "code",
   "execution_count": 16,
   "metadata": {},
   "outputs": [],
   "source": [
    "question = 'what is TTT?'\n",
    "context = \"\"\"{'Header 1': 'Intermediate and Senior Analytics Engineer Onboarding Timeline'}\n",
    "{Table}\n",
    "<table>\n",
    "<tr>\n",
    "<th>By Day 30</th>\n",
    "<th>By Day 60</th>\n",
    "<th>By Day 90</th>\n",
    "<th>By Day 120</th>\n",
    "</tr>\n",
    "<tr>\n",
    "<td>Complete People and</td>\n",
    "<td>Extend an</td>\n",
    "<td>Run a project end-to-</td>\n",
    "<td>Create</td>\n",
    "</tr>\n",
    "<tr>\n",
    "<td>Data Onboarding</td>\n",
    "<td>existing dbt</td>\n",
    "<td>end as DRI with</td>\n",
    "<td>ERDs/Data</td>\n",
    "</tr>\n",
    "<tr>\n",
    "<td></td>\n",
    "<td>Trusted Data</td>\n",
    "<td>support from a Data</td>\n",
    "<td>Artifacts</td>\n",
    "</tr>\n",
    "<tr>\n",
    "<td></td>\n",
    "<td>Models</td>\n",
    "<td>Fusion Team</td>\n",
    "<td></td>\n",
    "</tr>\n",
    "</table>  \n",
    "Start attending Data\n",
    "Fusion Team and  \n",
    "Perform triage\n",
    "activities  \n",
    "Business Team\n",
    "synchronous meetings  \n",
    "Complete First Issue: S to\n",
    "M T-Shirt Size\"\"\""
   ]
  },
  {
   "cell_type": "code",
   "execution_count": 31,
   "metadata": {},
   "outputs": [
    {
     "data": {
      "text/plain": [
       "[{'content': \"You are a helpful, respectful assistant. Always answer as helpfully as possible, while being safe. Your answers should not include any harmful, unethical, racist, sexist, toxic, dangerous, or illegal content. Please ensure that your responses are socially unbiased and positive in nature. If a question does not make any sense, or is not factually coherent, explain why instead of answering something not correct. If you don't know the answer to a question, please don't share false information. You will receive Document on user queries DOCUMENT, and QUESTION from user below. The DOCUMENT starts with it's Header information in the form of python dictionary (eg. {'Header 1': ''}), some might also include 'Header 2' and 'Header 3' (eg. {'Header 1': '', 'Header 2': '', 'Header 3': ''}). This header will inform you the general idea of the content of the DOCUMENT.If you find '{Figure}' and/or '{Table}' following the headeer information, The DOCUMENT contains Table and/or Figure in HTML format.Ignore the PageFooter, PageNumber, PageBreak, and PageHeader as a content, unless the user specifically asks for it.Answer the user's QUESTION using information form the DOCUMENT.\",\n",
       "  'role': 'system'},\n",
       " {'content': \"DOCUMENT: {'Header 1': 'Intermediate and Senior Analytics Engineer Onboarding Timeline'}\\n{Table}\\n<table>\\n<tr>\\n<th>By Day 30</th>\\n<th>By Day 60</th>\\n<th>By Day 90</th>\\n<th>By Day 120</th>\\n</tr>\\n<tr>\\n<td>Complete People and</td>\\n<td>Extend an</td>\\n<td>Run a project end-to-</td>\\n<td>Create</td>\\n</tr>\\n<tr>\\n<td>Data Onboarding</td>\\n<td>existing dbt</td>\\n<td>end as DRI with</td>\\n<td>ERDs/Data</td>\\n</tr>\\n<tr>\\n<td></td>\\n<td>Trusted Data</td>\\n<td>support from a Data</td>\\n<td>Artifacts</td>\\n</tr>\\n<tr>\\n<td></td>\\n<td>Models</td>\\n<td>Fusion Team</td>\\n<td></td>\\n</tr>\\n</table>  \\nStart attending Data\\nFusion Team and  \\nPerform triage\\nactivities  \\nBusiness Team\\nsynchronous meetings  \\nComplete First Issue: S to\\nM T-Shirt Size\\nQUESTION: what is TTT?\",\n",
       "  'role': 'user'},\n",
       " {'content': 'Answer: {', 'role': 'assistant'}]"
      ]
     },
     "execution_count": 31,
     "metadata": {},
     "output_type": "execute_result"
    }
   ],
   "source": [
    "prompt = generate_llm_prompt(question, context)\n",
    "prompt"
   ]
  },
  {
   "cell_type": "code",
   "execution_count": 32,
   "metadata": {},
   "outputs": [
    {
     "name": "stdout",
     "output_type": "stream",
     "text": [
      "ChatCompletionMessage(content='The document you provided does not mention anything about \"TTT.\" It\\'s possible that \"TTT\" could refer to something outside the context of the document or might be an acronym or term not included in the specific content. If you are referring to something specific, could you provide more context or clarification?', refusal=None, role='assistant', audio=None, function_call=None, tool_calls=None)\n"
     ]
    }
   ],
   "source": [
    "prompt = generate_llm_prompt(question, context)\n",
    "completion_firgure = client.chat.completions.create(\n",
    "    model=\"gpt-4o\",\n",
    "    messages=prompt\n",
    ")\n",
    "\n",
    "print(completion_firgure.choices[0].message)"
   ]
  },
  {
   "cell_type": "code",
   "execution_count": 33,
   "metadata": {},
   "outputs": [
    {
     "ename": "UnicodeDecodeError",
     "evalue": "'utf-8' codec can't decode byte 0xd3 in position 10: invalid continuation byte",
     "output_type": "error",
     "traceback": [
      "\u001b[0;31m---------------------------------------------------------------------------\u001b[0m",
      "\u001b[0;31mUnicodeDecodeError\u001b[0m                        Traceback (most recent call last)",
      "Cell \u001b[0;32mIn[33], line 29\u001b[0m\n\u001b[1;32m     27\u001b[0m file_path \u001b[38;5;241m=\u001b[39m os\u001b[38;5;241m.\u001b[39mpath\u001b[38;5;241m.\u001b[39mjoin(folder_path, file_name)\n\u001b[1;32m     28\u001b[0m \u001b[38;5;28;01mwith\u001b[39;00m \u001b[38;5;28mopen\u001b[39m(file_path, \u001b[38;5;124m'\u001b[39m\u001b[38;5;124mr\u001b[39m\u001b[38;5;124m'\u001b[39m) \u001b[38;5;28;01mas\u001b[39;00m file:\n\u001b[0;32m---> 29\u001b[0m     document_content \u001b[38;5;241m=\u001b[39m \u001b[43mfile\u001b[49m\u001b[38;5;241;43m.\u001b[39;49m\u001b[43mread\u001b[49m\u001b[43m(\u001b[49m\u001b[43m)\u001b[49m\n\u001b[1;32m     30\u001b[0m     questions \u001b[38;5;241m=\u001b[39m generate_questions_from_document(document_content)\n\u001b[1;32m     31\u001b[0m     \u001b[38;5;28mprint\u001b[39m(\u001b[38;5;124mf\u001b[39m\u001b[38;5;124m\"\u001b[39m\u001b[38;5;124mQuestions for \u001b[39m\u001b[38;5;132;01m{\u001b[39;00mfile_name\u001b[38;5;132;01m}\u001b[39;00m\u001b[38;5;124m:\u001b[39m\u001b[38;5;124m\"\u001b[39m)\n",
      "File \u001b[0;32m/Library/Frameworks/Python.framework/Versions/3.9/lib/python3.9/codecs.py:322\u001b[0m, in \u001b[0;36mBufferedIncrementalDecoder.decode\u001b[0;34m(self, input, final)\u001b[0m\n\u001b[1;32m    319\u001b[0m \u001b[38;5;28;01mdef\u001b[39;00m \u001b[38;5;21mdecode\u001b[39m(\u001b[38;5;28mself\u001b[39m, \u001b[38;5;28minput\u001b[39m, final\u001b[38;5;241m=\u001b[39m\u001b[38;5;28;01mFalse\u001b[39;00m):\n\u001b[1;32m    320\u001b[0m     \u001b[38;5;66;03m# decode input (taking the buffer into account)\u001b[39;00m\n\u001b[1;32m    321\u001b[0m     data \u001b[38;5;241m=\u001b[39m \u001b[38;5;28mself\u001b[39m\u001b[38;5;241m.\u001b[39mbuffer \u001b[38;5;241m+\u001b[39m \u001b[38;5;28minput\u001b[39m\n\u001b[0;32m--> 322\u001b[0m     (result, consumed) \u001b[38;5;241m=\u001b[39m \u001b[38;5;28;43mself\u001b[39;49m\u001b[38;5;241;43m.\u001b[39;49m\u001b[43m_buffer_decode\u001b[49m\u001b[43m(\u001b[49m\u001b[43mdata\u001b[49m\u001b[43m,\u001b[49m\u001b[43m \u001b[49m\u001b[38;5;28;43mself\u001b[39;49m\u001b[38;5;241;43m.\u001b[39;49m\u001b[43merrors\u001b[49m\u001b[43m,\u001b[49m\u001b[43m \u001b[49m\u001b[43mfinal\u001b[49m\u001b[43m)\u001b[49m\n\u001b[1;32m    323\u001b[0m     \u001b[38;5;66;03m# keep undecoded input until the next call\u001b[39;00m\n\u001b[1;32m    324\u001b[0m     \u001b[38;5;28mself\u001b[39m\u001b[38;5;241m.\u001b[39mbuffer \u001b[38;5;241m=\u001b[39m data[consumed:]\n",
      "\u001b[0;31mUnicodeDecodeError\u001b[0m: 'utf-8' codec can't decode byte 0xd3 in position 10: invalid continuation byte"
     ]
    }
   ],
   "source": [
    "import os\n",
    "from openai import OpenAI\n",
    "\n",
    "# Assuming client is already defined\n",
    "client = OpenAI()\n",
    "\n",
    "def generate_questions_from_document(document_content):\n",
    "    questions = []\n",
    "    for i in range(15):\n",
    "        question = f\"Generate question {i+1} about the content of the document.\"\n",
    "        prompt = generate_llm_prompt(question, document_content)\n",
    "        completion = client.chat.completions.create(\n",
    "            model=\"gpt-4o\",\n",
    "            messages=prompt\n",
    "        )\n",
    "        questions.append(completion.choices[0].message.content)\n",
    "    return questions\n",
    "\n",
    "# Path to the dataset_pdf folder\n",
    "folder_path = 'dataset_pdf'\n",
    "\n",
    "# List all files in the folder\n",
    "files = os.listdir(folder_path)\n",
    "\n",
    "# Process each file\n",
    "for file_name in files:\n",
    "    file_path = os.path.join(folder_path, file_name)\n",
    "    with open(file_path, 'r') as file:\n",
    "        document_content = file.read()\n",
    "        questions = generate_questions_from_document(document_content)\n",
    "        print(f\"Questions for {file_name}:\")\n",
    "        for question in questions:\n",
    "            print(question)\n",
    "        print(\"\\n\")"
   ]
  },
  {
   "cell_type": "code",
   "execution_count": null,
   "metadata": {},
   "outputs": [],
   "source": []
  }
 ],
 "metadata": {
  "kernelspec": {
   "display_name": "venv-rag2",
   "language": "python",
   "name": "python3"
  },
  "language_info": {
   "codemirror_mode": {
    "name": "ipython",
    "version": 3
   },
   "file_extension": ".py",
   "mimetype": "text/x-python",
   "name": "python",
   "nbconvert_exporter": "python",
   "pygments_lexer": "ipython3",
   "version": "3.9.0"
  }
 },
 "nbformat": 4,
 "nbformat_minor": 2
}
