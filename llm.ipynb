{
 "cells": [
  {
   "cell_type": "code",
   "execution_count": 11,
   "metadata": {},
   "outputs": [],
   "source": [
    "def prompt_EN(context, question):\n",
    "    messages = {\n",
    "        \"messages\": [\n",
    "            {\n",
    "            \"content\": \"You are a helpful, respectful assistant. Always answer as helpfully as possible, while being safe. Your answers should not include any harmful, unethical, racist, sexist, toxic, dangerous, or illegal content. Please ensure that your responses are socially unbiased and positive in nature. If a question does not make any sense, or is not factually coherent, explain why instead of answering something not correct. If you don't know the answer to a question, please don't share false information.You will receive Document on user queries DOCUMENT, and QUESTION from user below. Answer the question.\",\n",
    "            \"role\": \"system\"\n",
    "            },\n",
    "            {\n",
    "            \"content\": f\"\"\"DOCUMENT: {context}\n",
    "QUESTION: {question}\"\"\",\n",
    "            \"role\": \"user\"\n",
    "            },\n",
    "            {\n",
    "            \"content\": \"Answer: {\",\n",
    "            \"role\": \"assistant\"\n",
    "            },\n",
    "        ]\n",
    "    }\n",
    "    return messages[\"messages\"]"
   ]
  },
  {
   "cell_type": "code",
   "execution_count": 12,
   "metadata": {},
   "outputs": [],
   "source": [
    "context = \"\"\"### Data Science\n",
    "#### Data Science Job Family\n",
    "Data Science Roles:\n",
    "- Data Scientist\n",
    "- Senior Data Scientist\n",
    "- Staff Data Scientist\n",
    "- Principal Data Scientist\n",
    "Intermediate and Senior Data Scientist Onboarding Timeline:\n",
    "By Day 30 | By Day 60 | By Day 90 | By Day 120\n",
    "--- | --- | --- | ---\n",
    "Complete People and Data Onboarding | Meet stakeholders across the\n",
    "organization | Re-train or enhance an existing data science model | Make\n",
    "a contribution to improve the Data Science handbook, packages, or\n",
    "processes\n",
    "Start attending Data Science Team meetings | Refine/improve one data\n",
    "science dashboard | Work on OKR assignments | Take ownership of at least\n",
    "one quarterly OKR\n",
    "Understand the current data science systems and processes | | |\n",
    "### Analytics Engineering\n",
    "#### Analytics Engineering Job Family\n",
    "Analytics Engineer Roles:\n",
    "- Analytics Engineer\n",
    "- Senior Analytics Engineer\n",
    "- Staff Analytics Engineer\n",
    "- Principal Analytics Engineer\n",
    "Intermediate and Senior Analytics Engineer Onboarding Timeline:\n",
    "By Day 30 | By Day 60 | By Day 90 | By Day 120\n",
    "--- | --- | --- | ---\n",
    "Complete People and Data Onboarding | Extend an existing dbt Trusted\n",
    "Data Models | Run a project end-to-end as DRI with support from a Data\n",
    "Fusion Team | Create ERDs/Data Artifacts\n",
    "Start attending Data Fusion Team and Business Team synchronous meetings\n",
    "| Perform triage activities | Complete First Issue: S to M T-Shirt Size\n",
    "|\n",
    "### Data Management\n",
    "#### Data Management Job Family\n",
    "Data Management Roles:\n",
    "- Manager, Data\n",
    "- Senior Manager, Data\n",
    "file:///private/var/folders/z8/lzg1ky6j6n98zstxj6ybggtr0000gn/T/tmp77f9s2ec.html\n",
    "4/6\n",
    "22/10/2024, 15:41 tmp77f9s2ec.html\n",
    "- Director, Data\n",
    "- Senior Director, Data\n",
    "Data Manager Onboarding Timeline:\n",
    "By Day 30 | By Day 60 | By Day 90 | By Day 120\n",
    "--- | --- | --- | ---\n",
    "Complete People, Data, and Manager Onboarding | Meet everyone on the\n",
    "team and business data champions | Complete a Team Assessment | Draft a\n",
    "people development Roadmap\n",
    "Understand the current setup of the data platform | Work on OKR\n",
    "assignments and map them to the data platform | Lead discussions with\n",
    "Users/Stakeholders on initiatives and OKRs | Draft a program development\n",
    "Roadmap\n",
    "Add a new page to the handbook | Make regular contributions to the\n",
    "handbook spanning your area of management | Become DRI for major\n",
    "portions of the Data Handbook | System/Application Change Control\n",
    "Management of one or more modules\n",
    "## Tool Technology Tandem\n",
    "Tool Technology Tandems (TTT) are supporting to get the maximum value\n",
    "out of business opportunities we have in the Data Program. TTT are\n",
    "experts in a specific (software) tool or technology to support business\n",
    "opportunities or challenges we have by leveraging the tool or technology\n",
    "to the maximum.\n",
    "Tool / Technology | Tandem\"\"\"\n",
    "\n",
    "question = 'what is TTT'"
   ]
  },
  {
   "cell_type": "code",
   "execution_count": 13,
   "metadata": {},
   "outputs": [],
   "source": [
    "mm = prompt_EN(context, question)"
   ]
  },
  {
   "cell_type": "code",
   "execution_count": 14,
   "metadata": {},
   "outputs": [
    {
     "name": "stdout",
     "output_type": "stream",
     "text": [
      "[{'content': \"You are a helpful, respectful assistant. Always answer as helpfully as possible, while being safe. Your answers should not include any harmful, unethical, racist, sexist, toxic, dangerous, or illegal content. Please ensure that your responses are socially unbiased and positive in nature. If a question does not make any sense, or is not factually coherent, explain why instead of answering something not correct. If you don't know the answer to a question, please don't share false information.You will receive Document on user queries DOCUMENT, and QUESTION from user below. Answer the question.\", 'role': 'system'}, {'content': 'DOCUMENT: ### Data Science\\n#### Data Science Job Family\\nData Science Roles:\\n- Data Scientist\\n- Senior Data Scientist\\n- Staff Data Scientist\\n- Principal Data Scientist\\nIntermediate and Senior Data Scientist Onboarding Timeline:\\nBy Day 30 | By Day 60 | By Day 90 | By Day 120\\n--- | --- | --- | ---\\nComplete People and Data Onboarding | Meet stakeholders across the\\norganization | Re-train or enhance an existing data science model | Make\\na contribution to improve the Data Science handbook, packages, or\\nprocesses\\nStart attending Data Science Team meetings | Refine/improve one data\\nscience dashboard | Work on OKR assignments | Take ownership of at least\\none quarterly OKR\\nUnderstand the current data science systems and processes | | |\\n### Analytics Engineering\\n#### Analytics Engineering Job Family\\nAnalytics Engineer Roles:\\n- Analytics Engineer\\n- Senior Analytics Engineer\\n- Staff Analytics Engineer\\n- Principal Analytics Engineer\\nIntermediate and Senior Analytics Engineer Onboarding Timeline:\\nBy Day 30 | By Day 60 | By Day 90 | By Day 120\\n--- | --- | --- | ---\\nComplete People and Data Onboarding | Extend an existing dbt Trusted\\nData Models | Run a project end-to-end as DRI with support from a Data\\nFusion Team | Create ERDs/Data Artifacts\\nStart attending Data Fusion Team and Business Team synchronous meetings\\n| Perform triage activities | Complete First Issue: S to M T-Shirt Size\\n|\\n### Data Management\\n#### Data Management Job Family\\nData Management Roles:\\n- Manager, Data\\n- Senior Manager, Data\\nfile:///private/var/folders/z8/lzg1ky6j6n98zstxj6ybggtr0000gn/T/tmp77f9s2ec.html\\n4/6\\n22/10/2024, 15:41 tmp77f9s2ec.html\\n- Director, Data\\n- Senior Director, Data\\nData Manager Onboarding Timeline:\\nBy Day 30 | By Day 60 | By Day 90 | By Day 120\\n--- | --- | --- | ---\\nComplete People, Data, and Manager Onboarding | Meet everyone on the\\nteam and business data champions | Complete a Team Assessment | Draft a\\npeople development Roadmap\\nUnderstand the current setup of the data platform | Work on OKR\\nassignments and map them to the data platform | Lead discussions with\\nUsers/Stakeholders on initiatives and OKRs | Draft a program development\\nRoadmap\\nAdd a new page to the handbook | Make regular contributions to the\\nhandbook spanning your area of management | Become DRI for major\\nportions of the Data Handbook | System/Application Change Control\\nManagement of one or more modules\\n## Tool Technology Tandem\\nTool Technology Tandems (TTT) are supporting to get the maximum value\\nout of business opportunities we have in the Data Program. TTT are\\nexperts in a specific (software) tool or technology to support business\\nopportunities or challenges we have by leveraging the tool or technology\\nto the maximum.\\nTool / Technology | Tandem\\nQUESTION: what is TTT', 'role': 'user'}, {'content': 'Answer: {', 'role': 'assistant'}]\n"
     ]
    }
   ],
   "source": [
    "print(mm)"
   ]
  },
  {
   "cell_type": "code",
   "execution_count": 17,
   "metadata": {},
   "outputs": [
    {
     "name": "stdout",
     "output_type": "stream",
     "text": [
      "ChatCompletionMessage(content='TTT stands for Tool Technology Tandem. It refers to a group of experts who specialize in a specific software tool or technology. Their role is to support business opportunities or address challenges by leveraging these tools or technologies to their fullest potential. The goal is to maximize the value derived from the data program within the organization.', refusal=None, role='assistant', audio=None, function_call=None, tool_calls=None)\n"
     ]
    }
   ],
   "source": [
    "from openai import OpenAI\n",
    "client = OpenAI()\n",
    "\n",
    "completion = client.chat.completions.create(\n",
    "    model=\"gpt-4o\",\n",
    "    messages=mm\n",
    ")\n",
    "\n",
    "print(completion.choices[0].message)"
   ]
  },
  {
   "cell_type": "code",
   "execution_count": 20,
   "metadata": {},
   "outputs": [
    {
     "data": {
      "text/plain": [
       "'TTT stands for Tool Technology Tandem. It refers to a group of experts who specialize in a specific software tool or technology. Their role is to support business opportunities or address challenges by leveraging these tools or technologies to their fullest potential. The goal is to maximize the value derived from the data program within the organization.'"
      ]
     },
     "execution_count": 20,
     "metadata": {},
     "output_type": "execute_result"
    }
   ],
   "source": [
    "completion.choices[0].message.content"
   ]
  },
  {
   "cell_type": "code",
   "execution_count": null,
   "metadata": {},
   "outputs": [],
   "source": [
    "prompt = f\"\"\"<|begin_of_text|><|start_header_id|>**system<|end_header_id|>`\n",
    "You are a helpful, respectful assistant. Always answer as helpfully as possible, while being safe. Your answers should not include any harmful, unethical, racist, sexist, toxic, dangerous, or illegal content. Please ensure that your responses are socially unbiased and positive in nature. If a question does not make any sense, or is not factually coherent, explain why instead of answering something not correct. If you don't know the answer to a question, please don't share false information.\n",
    "\n",
    "You will receive Document on user queries DOCUMENT, and QUESTION from user below. Answer the question.\n",
    "\n",
    "DOCUMENT:\n",
    "### Data Science\n",
    "#### Data Science Job Family\n",
    "Data Science Roles:\n",
    "- Data Scientist\n",
    "- Senior Data Scientist\n",
    "- Staff Data Scientist\n",
    "- Principal Data Scientist\n",
    "Intermediate and Senior Data Scientist Onboarding Timeline:\n",
    "By Day 30 | By Day 60 | By Day 90 | By Day 120\n",
    "--- | --- | --- | ---\n",
    "Complete People and Data Onboarding | Meet stakeholders across the\n",
    "organization | Re-train or enhance an existing data science model | Make\n",
    "a contribution to improve the Data Science handbook, packages, or\n",
    "processes\n",
    "Start attending Data Science Team meetings | Refine/improve one data\n",
    "science dashboard | Work on OKR assignments | Take ownership of at least\n",
    "one quarterly OKR\n",
    "Understand the current data science systems and processes | | |\n",
    "### Analytics Engineering\n",
    "#### Analytics Engineering Job Family\n",
    "Analytics Engineer Roles:\n",
    "- Analytics Engineer\n",
    "- Senior Analytics Engineer\n",
    "- Staff Analytics Engineer\n",
    "- Principal Analytics Engineer\n",
    "Intermediate and Senior Analytics Engineer Onboarding Timeline:\n",
    "By Day 30 | By Day 60 | By Day 90 | By Day 120\n",
    "--- | --- | --- | ---\n",
    "Complete People and Data Onboarding | Extend an existing dbt Trusted\n",
    "Data Models | Run a project end-to-end as DRI with support from a Data\n",
    "Fusion Team | Create ERDs/Data Artifacts\n",
    "Start attending Data Fusion Team and Business Team synchronous meetings\n",
    "| Perform triage activities | Complete First Issue: S to M T-Shirt Size\n",
    "|\n",
    "### Data Management\n",
    "#### Data Management Job Family\n",
    "Data Management Roles:\n",
    "- Manager, Data\n",
    "- Senior Manager, Data\n",
    "file:///private/var/folders/z8/lzg1ky6j6n98zstxj6ybggtr0000gn/T/tmp77f9s2ec.html\n",
    "4/6\n",
    "22/10/2024, 15:41 tmp77f9s2ec.html\n",
    "- Director, Data\n",
    "- Senior Director, Data\n",
    "Data Manager Onboarding Timeline:\n",
    "By Day 30 | By Day 60 | By Day 90 | By Day 120\n",
    "--- | --- | --- | ---\n",
    "Complete People, Data, and Manager Onboarding | Meet everyone on the\n",
    "team and business data champions | Complete a Team Assessment | Draft a\n",
    "people development Roadmap\n",
    "Understand the current setup of the data platform | Work on OKR\n",
    "assignments and map them to the data platform | Lead discussions with\n",
    "Users/Stakeholders on initiatives and OKRs | Draft a program development\n",
    "Roadmap\n",
    "Add a new page to the handbook | Make regular contributions to the\n",
    "handbook spanning your area of management | Become DRI for major\n",
    "portions of the Data Handbook | System/Application Change Control\n",
    "Management of one or more modules\n",
    "## Tool Technology Tandem\n",
    "Tool Technology Tandems (TTT) are supporting to get the maximum value\n",
    "out of business opportunities we have in the Data Program. TTT are\n",
    "experts in a specific (software) tool or technology to support business\n",
    "opportunities or challenges we have by leveraging the tool or technology\n",
    "to the maximum.\n",
    "Tool / Technology | Tandem\n",
    "QUESTION: What is TTT\n",
    "\n",
    "Answer the QUESTION use details about HR Policy from HR POLICY DETAILS, explain your reasonings if the question is not related to REFERENCE please Answer\n",
    "“I don’t know the answer, it is not part of the provided HR Policy”\n",
    "<|eot_id|><|start_header_id|>user<|end_header_id|>\n",
    "\n",
    "hello<|eot_id|><|start_header_id|>assistant<|end_header_id|>\n",
    "\n",
    "hello, I'm your HR Policy Assistance, please type your question<|eot_id|><|start_header_id|>user<|end_header_id|>\n",
    "\n",
    "What is TTT<|eot_id|><|start_header_id|>assistant<|end_header_id|>\n",
    "\"\"\""
   ]
  }
 ],
 "metadata": {
  "kernelspec": {
   "display_name": "venv-rag2",
   "language": "python",
   "name": "python3"
  },
  "language_info": {
   "codemirror_mode": {
    "name": "ipython",
    "version": 3
   },
   "file_extension": ".py",
   "mimetype": "text/x-python",
   "name": "python",
   "nbconvert_exporter": "python",
   "pygments_lexer": "ipython3",
   "version": "3.9.0"
  }
 },
 "nbformat": 4,
 "nbformat_minor": 2
}
